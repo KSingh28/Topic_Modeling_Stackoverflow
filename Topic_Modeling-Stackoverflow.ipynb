{
 "cells": [
  {
   "cell_type": "code",
   "execution_count": 88,
   "metadata": {},
   "outputs": [],
   "source": [
    "import numpy as np\n",
    "import pandas as pd\n",
    "import nltk \n",
    "import gensim\n",
    "import re"
   ]
  },
  {
   "cell_type": "code",
   "execution_count": 89,
   "metadata": {
    "collapsed": true
   },
   "outputs": [],
   "source": [
    "df_quest=pd.read_csv(\"/Data/Questions.csv\",encoding='latin1')\n",
    "df_t=pd.read_csv(\"/Data/Tags.csv\",encoding='latin1')"
   ]
  },
  {
   "cell_type": "code",
   "execution_count": 90,
   "metadata": {},
   "outputs": [
    {
     "data": {
      "text/plain": [
       "(1500, 7)"
      ]
     },
     "execution_count": 90,
     "metadata": {},
     "output_type": "execute_result"
    }
   ],
   "source": [
    "df_question=df_quest.iloc[:1500]\n",
    "#df_tags=df_t.iloc[:800]\n",
    "df_question.shape"
   ]
  },
  {
   "cell_type": "code",
   "execution_count": 91,
   "metadata": {},
   "outputs": [
    {
     "data": {
      "text/html": [
       "<div>\n",
       "<style>\n",
       "    .dataframe thead tr:only-child th {\n",
       "        text-align: right;\n",
       "    }\n",
       "\n",
       "    .dataframe thead th {\n",
       "        text-align: left;\n",
       "    }\n",
       "\n",
       "    .dataframe tbody tr th {\n",
       "        vertical-align: top;\n",
       "    }\n",
       "</style>\n",
       "<table border=\"1\" class=\"dataframe\">\n",
       "  <thead>\n",
       "    <tr style=\"text-align: right;\">\n",
       "      <th></th>\n",
       "      <th>Id</th>\n",
       "      <th>OwnerUserId</th>\n",
       "      <th>CreationDate</th>\n",
       "      <th>ClosedDate</th>\n",
       "      <th>Score</th>\n",
       "      <th>Title</th>\n",
       "      <th>Body</th>\n",
       "    </tr>\n",
       "  </thead>\n",
       "  <tbody>\n",
       "    <tr>\n",
       "      <th>0</th>\n",
       "      <td>80</td>\n",
       "      <td>26.0</td>\n",
       "      <td>2008-08-01T13:57:07Z</td>\n",
       "      <td>NaN</td>\n",
       "      <td>26</td>\n",
       "      <td>SQLStatement.execute() - multiple queries in o...</td>\n",
       "      <td>&lt;p&gt;I've written a database generation script i...</td>\n",
       "    </tr>\n",
       "    <tr>\n",
       "      <th>1</th>\n",
       "      <td>90</td>\n",
       "      <td>58.0</td>\n",
       "      <td>2008-08-01T14:41:24Z</td>\n",
       "      <td>2012-12-26T03:45:49Z</td>\n",
       "      <td>144</td>\n",
       "      <td>Good branching and merging tutorials for Torto...</td>\n",
       "      <td>&lt;p&gt;Are there any really good tutorials explain...</td>\n",
       "    </tr>\n",
       "    <tr>\n",
       "      <th>2</th>\n",
       "      <td>120</td>\n",
       "      <td>83.0</td>\n",
       "      <td>2008-08-01T15:50:08Z</td>\n",
       "      <td>NaN</td>\n",
       "      <td>21</td>\n",
       "      <td>ASP.NET Site Maps</td>\n",
       "      <td>&lt;p&gt;Has anyone got experience creating &lt;strong&gt;...</td>\n",
       "    </tr>\n",
       "    <tr>\n",
       "      <th>3</th>\n",
       "      <td>180</td>\n",
       "      <td>2089740.0</td>\n",
       "      <td>2008-08-01T18:42:19Z</td>\n",
       "      <td>NaN</td>\n",
       "      <td>53</td>\n",
       "      <td>Function for creating color wheels</td>\n",
       "      <td>&lt;p&gt;This is something I've pseudo-solved many t...</td>\n",
       "    </tr>\n",
       "    <tr>\n",
       "      <th>4</th>\n",
       "      <td>260</td>\n",
       "      <td>91.0</td>\n",
       "      <td>2008-08-01T23:22:08Z</td>\n",
       "      <td>NaN</td>\n",
       "      <td>49</td>\n",
       "      <td>Adding scripting functionality to .NET applica...</td>\n",
       "      <td>&lt;p&gt;I have a little game written in C#. It uses...</td>\n",
       "    </tr>\n",
       "  </tbody>\n",
       "</table>\n",
       "</div>"
      ],
      "text/plain": [
       "    Id  OwnerUserId          CreationDate            ClosedDate  Score  \\\n",
       "0   80         26.0  2008-08-01T13:57:07Z                   NaN     26   \n",
       "1   90         58.0  2008-08-01T14:41:24Z  2012-12-26T03:45:49Z    144   \n",
       "2  120         83.0  2008-08-01T15:50:08Z                   NaN     21   \n",
       "3  180    2089740.0  2008-08-01T18:42:19Z                   NaN     53   \n",
       "4  260         91.0  2008-08-01T23:22:08Z                   NaN     49   \n",
       "\n",
       "                                               Title  \\\n",
       "0  SQLStatement.execute() - multiple queries in o...   \n",
       "1  Good branching and merging tutorials for Torto...   \n",
       "2                                  ASP.NET Site Maps   \n",
       "3                 Function for creating color wheels   \n",
       "4  Adding scripting functionality to .NET applica...   \n",
       "\n",
       "                                                Body  \n",
       "0  <p>I've written a database generation script i...  \n",
       "1  <p>Are there any really good tutorials explain...  \n",
       "2  <p>Has anyone got experience creating <strong>...  \n",
       "3  <p>This is something I've pseudo-solved many t...  \n",
       "4  <p>I have a little game written in C#. It uses...  "
      ]
     },
     "execution_count": 91,
     "metadata": {},
     "output_type": "execute_result"
    }
   ],
   "source": [
    "df_question.head()"
   ]
  },
  {
   "cell_type": "code",
   "execution_count": 92,
   "metadata": {},
   "outputs": [
    {
     "data": {
      "text/html": [
       "<div>\n",
       "<style>\n",
       "    .dataframe thead tr:only-child th {\n",
       "        text-align: right;\n",
       "    }\n",
       "\n",
       "    .dataframe thead th {\n",
       "        text-align: left;\n",
       "    }\n",
       "\n",
       "    .dataframe tbody tr th {\n",
       "        vertical-align: top;\n",
       "    }\n",
       "</style>\n",
       "<table border=\"1\" class=\"dataframe\">\n",
       "  <thead>\n",
       "    <tr style=\"text-align: right;\">\n",
       "      <th></th>\n",
       "      <th>ClosedDate</th>\n",
       "      <th>Title</th>\n",
       "      <th>Body</th>\n",
       "    </tr>\n",
       "  </thead>\n",
       "  <tbody>\n",
       "    <tr>\n",
       "      <th>0</th>\n",
       "      <td>NaN</td>\n",
       "      <td>SQLStatement.execute() - multiple queries in o...</td>\n",
       "      <td>&lt;p&gt;I've written a database generation script i...</td>\n",
       "    </tr>\n",
       "    <tr>\n",
       "      <th>1</th>\n",
       "      <td>2012-12-26T03:45:49Z</td>\n",
       "      <td>Good branching and merging tutorials for Torto...</td>\n",
       "      <td>&lt;p&gt;Are there any really good tutorials explain...</td>\n",
       "    </tr>\n",
       "    <tr>\n",
       "      <th>2</th>\n",
       "      <td>NaN</td>\n",
       "      <td>ASP.NET Site Maps</td>\n",
       "      <td>&lt;p&gt;Has anyone got experience creating &lt;strong&gt;...</td>\n",
       "    </tr>\n",
       "    <tr>\n",
       "      <th>3</th>\n",
       "      <td>NaN</td>\n",
       "      <td>Function for creating color wheels</td>\n",
       "      <td>&lt;p&gt;This is something I've pseudo-solved many t...</td>\n",
       "    </tr>\n",
       "    <tr>\n",
       "      <th>4</th>\n",
       "      <td>NaN</td>\n",
       "      <td>Adding scripting functionality to .NET applica...</td>\n",
       "      <td>&lt;p&gt;I have a little game written in C#. It uses...</td>\n",
       "    </tr>\n",
       "  </tbody>\n",
       "</table>\n",
       "</div>"
      ],
      "text/plain": [
       "             ClosedDate                                              Title  \\\n",
       "0                   NaN  SQLStatement.execute() - multiple queries in o...   \n",
       "1  2012-12-26T03:45:49Z  Good branching and merging tutorials for Torto...   \n",
       "2                   NaN                                  ASP.NET Site Maps   \n",
       "3                   NaN                 Function for creating color wheels   \n",
       "4                   NaN  Adding scripting functionality to .NET applica...   \n",
       "\n",
       "                                                Body  \n",
       "0  <p>I've written a database generation script i...  \n",
       "1  <p>Are there any really good tutorials explain...  \n",
       "2  <p>Has anyone got experience creating <strong>...  \n",
       "3  <p>This is something I've pseudo-solved many t...  \n",
       "4  <p>I have a little game written in C#. It uses...  "
      ]
     },
     "execution_count": 92,
     "metadata": {},
     "output_type": "execute_result"
    }
   ],
   "source": [
    "df_mod_question=df_question.drop(['Id','OwnerUserId','CreationDate','Score'],axis=1)\n",
    "df_mod_question.head()"
   ]
  },
  {
   "cell_type": "code",
   "execution_count": 93,
   "metadata": {
    "collapsed": true
   },
   "outputs": [],
   "source": [
    "titles=df_mod_question.Title\n",
    "questions=df_mod_question.Body"
   ]
  },
  {
   "cell_type": "code",
   "execution_count": 94,
   "metadata": {
    "collapsed": true
   },
   "outputs": [],
   "source": [
    "import string\n",
    "\n",
    "#remove html characters\n",
    "def html_using_re(text):\n",
    "    return(re.sub(\"(\\<.*?\\>)\",\"\",text))\n",
    "\n",
    "#removing punctuation using string library\n",
    "def rem_punctuation(text):\n",
    "    removeStr=set(string.punctuation)\n",
    "    return ''.join(char for char in text if char not in removeStr)\n",
    "\n",
    "\n",
    "questions = [html_using_re(question) for question in questions]\n",
    "titles = [rem_punctuation(title) for title in titles]\n",
    "questions = [rem_punctuation(question) for question in questions]"
   ]
  },
  {
   "cell_type": "code",
   "execution_count": 95,
   "metadata": {
    "collapsed": true
   },
   "outputs": [],
   "source": [
    "#tokenize word using nltk word_tokenize\n",
    "questions_token = [nltk.word_tokenize(question) for question in questions]\n",
    "titles_token = [nltk.word_tokenize(title) for title in titles]"
   ]
  },
  {
   "cell_type": "code",
   "execution_count": 96,
   "metadata": {
    "collapsed": true
   },
   "outputs": [],
   "source": [
    "#getting root words\n",
    "stemmer=nltk.stem.PorterStemmer()\n",
    "questions_stemmed = [[stemmer.stem(token) for token in tokens] for tokens in questions_token]\n",
    "titles_stemmed = [[stemmer.stem(token) for token in tokens] for tokens in titles_token]"
   ]
  },
  {
   "cell_type": "code",
   "execution_count": 110,
   "metadata": {},
   "outputs": [],
   "source": [
    "#removing stopwords:nltk.corpus.stopwords.words\n",
    "\n",
    "stopwords_english = set([word for word in nltk.corpus.stopwords.words(\"english\")])\n",
    "questions_stemmed = [[token for token in tokens if token.lower() not in stopwords_english] for tokens in questions_stemmed]\n",
    "titles_stemmed = [[token for token in tokens if token.lower() not in stopwords_english] for tokens in titles_stemmed]\n"
   ]
  },
  {
   "cell_type": "code",
   "execution_count": 111,
   "metadata": {},
   "outputs": [],
   "source": [
    "#word count: count frequecy of words in the doc\n",
    "\n",
    "count_words = pd.Series(np.concatenate(questions_stemmed)).value_counts()\n",
    "singular_words = set(count_words[pd.Series(np.concatenate(questions_stemmed)).value_counts() == 1].index)\n",
    "questions_stemmed = [[word for word in title if word not in singular_words] for title in questions_stemmed]\n",
    "\n",
    "count_words = pd.Series(np.concatenate(titles_stemmed)).value_counts()\n",
    "singular_words = set(count_words[pd.Series(np.concatenate(titles_stemmed)).value_counts() == 1].index)\n",
    "titles_stemmed = [[word for word in title if word not in singular_words] for title in titles_stemmed]\n"
   ]
  },
  {
   "cell_type": "code",
   "execution_count": 112,
   "metadata": {},
   "outputs": [],
   "source": [
    "#form list of array of each sentence\n",
    "non_empty_indices = [i for i in range(len(questions_stemmed)) if len(questions_stemmed[i]) > 0]\n",
    "questions_stemmed = np.asarray(questions_stemmed)[non_empty_indices]\n",
    "non_empty_indices = [i for i in range(len(titles_stemmed)) if len(titles_stemmed[i]) > 0]\n",
    "titles_stemmed = np.asarray(titles_stemmed)[non_empty_indices]"
   ]
  },
  {
   "cell_type": "code",
   "execution_count": 113,
   "metadata": {},
   "outputs": [
    {
     "name": "stdout",
     "output_type": "stream",
     "text": [
      "Dictionary(961 unique tokens: ['multipl', 'one', 'queri', 'statement', 'branch']...)\n"
     ]
    }
   ],
   "source": [
    "#gensim.corpora.Dictionary- mapping between normalize words and their integer id's(token_id,word)\n",
    "dictionary = gensim.corpora.Dictionary(questions_stemmed)\n",
    "dictionary2 = gensim.corpora.Dictionary(titles_stemmed)\n",
    "print(dictionary2)"
   ]
  },
  {
   "cell_type": "code",
   "execution_count": 114,
   "metadata": {},
   "outputs": [],
   "source": [
    "#Convert list of wo into bag-of-words(token_id,token_count)\n",
    "doc2bow = [dictionary.doc2bow(text) for text in questions_stemmed]\n",
    "doc2bow1 = [dictionary2.doc2bow(text) for text in titles_stemmed]"
   ]
  },
  {
   "cell_type": "code",
   "execution_count": 115,
   "metadata": {},
   "outputs": [],
   "source": [
    "#Build model using LDA algo\n",
    "model =  gensim.models.ldamodel.LdaModel\n",
    "ldamodel = model(doc2bow1, num_topics=5, id2word = dictionary2, passes=50)"
   ]
  },
  {
   "cell_type": "code",
   "execution_count": 116,
   "metadata": {},
   "outputs": [
    {
     "name": "stdout",
     "output_type": "stream",
     "text": [
      "[(0, '0.053*\"C\" + 0.023*\"use\" + 0.019*\"string\" + 0.017*\"aspnet\" + 0.015*\"vs\" + 0.014*\"array\" + 0.013*\"variabl\" + 0.011*\"function\" + 0.010*\"email\" + 0.010*\"whi\"'), (1, '0.036*\"use\" + 0.024*\"control\" + 0.020*\"file\" + 0.020*\"net\" + 0.017*\"error\" + 0.016*\"web\" + 0.014*\"build\" + 0.012*\"aspnet\" + 0.012*\"applic\" + 0.011*\"tool\"'), (2, '0.041*\"way\" + 0.038*\"best\" + 0.022*\"get\" + 0.018*\"file\" + 0.012*\"C\" + 0.011*\"sourc\" + 0.011*\"code\" + 0.010*\"applic\" + 0.010*\"eclips\" + 0.010*\"gener\"'), (3, '0.020*\"visual\" + 0.020*\"work\" + 0.019*\"studio\" + 0.017*\"test\" + 0.016*\"make\" + 0.015*\"object\" + 0.014*\"differ\" + 0.012*\"java\" + 0.012*\"page\" + 0.011*\"net\"'), (4, '0.042*\"server\" + 0.038*\"sql\" + 0.027*\"use\" + 0.021*\"data\" + 0.019*\"databas\" + 0.018*\"python\" + 0.016*\"window\" + 0.014*\"store\" + 0.013*\"applic\" + 0.011*\"get\"')]\n"
     ]
    }
   ],
   "source": [
    "print(ldamodel.print_topics(num_topics=5,num_words=10))"
   ]
  },
  {
   "cell_type": "code",
   "execution_count": 117,
   "metadata": {
    "collapsed": true
   },
   "outputs": [],
   "source": [
    "#tf=Term frequency,idf=Inverse document frequency\n",
    "tfidf = gensim.models.tfidfmodel.TfidfModel(doc2bow1)\n",
    "doc2bow1_tfidf = tfidf[doc2bow1]\n",
    "d = {dictionary.get(id): value for doc in doc2bow1_tfidf for id, value in doc}"
   ]
  },
  {
   "cell_type": "code",
   "execution_count": 118,
   "metadata": {},
   "outputs": [
    {
     "name": "stdout",
     "output_type": "stream",
     "text": [
      "{'adob': 0.5275734756011512, 'air': 0.28595507327358466, 'applic': 0.5772957326124676, 'boolean': 0.3440574205214579, 'call': 0.5864930429570165, 'catch': 0.2205523250169085, 'categoryid': 0.27593444073702883, 'creat': 0.42525269300834995, 'databas': 0.5723266862453216, 'date': 0.18210609353373264, 'durat': 0.5479245837375005, 'error': 0.479474498194099, 'execut': 0.40954890857403414, 'exist': 0.4099984392173051, 'fail': 0.7265557339599586, 'filenam': 0.3902844259798923, 'filestream': 0.22474326300802736, 'first': 0.3096306671799468, 'follow': 0.38589792142793106, 'function': 0.6299021715984993, 'gener': 0.404565780653228, 'howev': 0.3352043764893029, 'integ': 0.27283883303330725, 'ive': 0.243953732714313, 'key': 0.6317530362997883, 'look': 0.30337700929046024, 'method': 0.32288821101420645, 'multipl': 0.4614366613289099, 'new': 0.37587166743491196, 'one': 0.34608356175570987, 'onli': 0.4722325377340358, 'primari': 0.3966830028114962, 'public': 0.43600430132222867, 'queri': 0.4496607151456287, 'remov': 0.28497550861243964, 'script': 0.5131753980567975, 'seem': 0.34452375829485854, 'sql': 0.6147156836301865, 'sqlconnect': 0.327667046755183, 'statement': 0.40868986844886096, 'static': 0.48418479709069767, 'tabl': 0.32082588824060204, 'thi': 0.463159067777109, 'tri': 0.2164907336458054, 'trole': 0.29673539249021885, 'use': 0.42378901517536033, 'var': 0.6171754906628323, 'varchar50': 0.8699231347203056, 'want': 0.2732444326703622, 'way': 0.3800533072925668, 'written': 0.5259583706750219, 'ani': 0.3534075435258781, 'apach': 0.4980971948512086, 'better': 0.5388690809172022, 'branch': 0.6550855937510798, 'client': 0.3682612133550356, 'explain': 0.3656030195871291, 'good': 0.453036843408159, 'merg': 0.4906702191301162, 'realli': 0.6521961819931372, 'specif': 0.4057605257278781, 'subvers': 0.4901136551325762, 'tortoisesvn': 0.31240684718920286, 'tutori': 0.5347056713745281, 'anyon': 0.5383251004283084, 'aspnet': 0.5702631359779806, 'control': 0.8126682040652778, 'default': 0.34534320058614987, 'dynam': 0.5688876509889894, 'experi': 0.7915925911642007, 'file': 0.6220538374633303, 'got': 0.38198968422783736, 'ha': 0.23427136560188452, 'ill': 0.23781784838541095, 'membership': 0.471265398045134, 'menu': 0.24569989453083665, 'modifi': 0.4024872769289914, 'need': 0.5174478262680552, 'page': 0.40812814274778675, 'permiss': 0.5510041664803359, 'properli': 0.4156432459164567, 'provid': 0.5312099133736299, 'site': 0.3770598354995086, 'sitemap': 0.689063246389857, 'sqlbase': 0.42086704042112605, 'standard': 0.3422366048885719, 'system': 0.6004434714094303, 'tie': 0.7018246204874404, 'user': 0.47798233350962926, 'view': 0.4858904251373923, 'websitemap': 0.4710671462560718, 'well': 0.45076250213697405, 'work': 0.46841172031314887, 'xml': 0.2531782024864839, 'N': 0.6467008954912844, 'color': 0.479474498194099, 'come': 0.4627601147776648, 'found': 0.45251409945467724, 'mani': 0.32496951435385973, 'never': 0.3747530507004919, 'paramet': 0.3824907795797596, 'possibl': 0.48043597654021275, 'problem': 0.5151271279871287, 'quit': 0.6263496292374587, 'solut': 0.37940060378843227, 'someth': 0.8247472960633512, 'stuck': 0.742326585945889, 'time': 0.5585438962669386, '1': 0.30592476702716165, 'C': 0.3341950828344961, 'add': 0.38665265729182297, 'assembl': 0.48803581223343373, 'backend': 0.46636253740915506, 'bonu': 0.37041932894294294, 'card': 0.44128433907766307, 'class': 0.7576264091245553, 'code': 0.28974508785844544, 'compil': 0.2967591706574074, 'contain': 0.5327527946881536, 'deploy': 0.3700239571556564, 'especi': 0.42552611985645145, 'essenti': 0.4088236571995017, 'etc': 0.834728729518687, 'extra': 0.4075661674426765, 'game': 0.4335670861341925, 'hundr': 0.501134750967289, 'icard': 0.4157789395978103, 'implement': 0.5904342778852694, 'instanti': 0.5259583631003529, 'interfac': 0.5285488169108888, 'languag': 0.48715012201675745, 'like': 0.46961801702985634, 'littl': 0.5279284056173417, 'make': 0.538430160061366, 'mean': 0.4161163516307797, 'net': 0.5667494025733493, 'per': 0.33471203120549897, 'refresh': 0.5743359747740462, 'regist': 0.471545411503928, 'sinc': 0.40883868291347497, 'sourc': 0.36951242186804, 'talk': 0.48855930509015166, 'tell': 0.672316453664803, 'thing': 0.6001018077291481, 'trade': 0.6217987071452793, 'without': 0.8446619009799822, 'would': 0.5353001709628744, 'write': 0.40060583674535155, 'Im': 0.6052975851834522, 'accord': 0.7025695924017383, 'act': 0.5107013810211259, 'avoid': 0.3296786775133, 'book': 0.430490216929445, 'case': 0.46453686974797315, 'collect': 0.49941732870521244, 'concept': 0.4621121901276331, 'conflict': 0.7036916295133905, 'curiou': 0.5505554475479678, 'decod': 0.5395877606238995, 'dont': 0.578010551002621, 'encod': 0.4685522123603836, 'insid': 0.3893472597169355, 'issu': 0.4174880919344593, 'justif': 0.5112378210089481, 'know': 0.5868998990169565, 'learn': 0.35594152099557946, 'main': 0.4687603493809957, 'meant': 0.4986694847959185, 'mine': 0.6576676276889065, 'name': 0.5616188774382578, 'nest': 0.40367652014738725, 'paus': 0.7938786474239626, 'play': 0.5652584085341558, 'programm': 0.34003358140495826, 'read': 0.565399856810783, 'record': 0.6839532930503277, 'scenario': 0.6097367683631892, 'see': 0.3402953601960089, 'separ': 0.43188997673335966, 'stop': 0.30331630227869805, 'suggest': 0.4715753520606547, 'sure': 0.5225845242327314, 'think': 0.5011103150239166, 'video': 0.596359856096344, 'wari': 0.38792059172117743, 'workhors': 0.42384585320495916, 'ad': 0.537061302824169, 'advantag': 0.4049751476891601, 'app': 0.35791506096614306, 'auto': 0.5692716162392245, 'consum': 0.5442121990064278, 'exampl': 0.6337961628730207, 'numer': 0.4141148490982305, 'oppos': 0.39706703641328867, 'readi': 0.33253213267051845, 'refer': 0.4422331860835033, 'seen': 0.39279244748369563, 'servic': 0.28122679406306333, 'studio': 0.42348601668680363, 'visual': 0.4725351434571646, 'web': 0.301200652232939, '2': 0.39680317776283475, '2005': 0.4655458012825795, 'alreadi': 0.7071067811865476, 'also': 0.48075781031273146, 'alter': 0.6988169920753663, 'alway': 0.5439765480994412, 'attach': 0.6168934198956161, 'automat': 0.42038514553146916, 'batch': 0.4212786567903784, 'binari': 0.3004287839128469, 'bit': 0.5269596050744827, 'care': 0.5119511553071462, 'chang': 0.4529128957009952, 'check': 0.4728840667716669, 'command': 0.6516434331987627, 'complex': 0.6938542051489464, 'copi': 0.45927099514517045, 'count': 0.48061007201578154, 'current': 0.6171754906628323, 'data': 0.6983014530108778, 'develop': 0.4107652828675693, 'differ': 0.37360692124247574, 'dump': 0.453216588383356, 'enterpris': 0.3894593767118705, 'even': 0.4107047993187947, 'export': 0.4508806534377768, 'express': 0.3498257932431841, 'fact': 0.735528725912073, 'field': 0.44770523580368005, 'gate': 0.6371135978226716, 'given': 0.40620097061412425, 'great': 0.5673280278253178, 'guy': 0.5115756256173092, 'hear': 0.4654915961608703, 'hobbi': 0.512873774842347, 'instead': 0.45629678024397746, 'involv': 0.5987775903472247, 'lack': 0.3731213481731134, 'later': 0.5829989397652333, 'line': 0.3881758337422119, 'live': 0.47443430084603044, 'lot': 0.25376040498834945, 'manag': 0.7897204645380416, 'managermanag': 0.4120705404052408, 'may': 0.38677085373307, 'might': 0.46654850017291377, 'part': 0.8126682040652778, 'powershel': 0.36676547757080075, 'price': 0.4523588227086538, 'product': 0.44310819969970894, 'project': 0.6132784751538618, 'rather': 0.6236081651434829, 'red': 0.5885094133895361, 'run': 0.4722031038795602, 'server': 0.5980080743141394, 'structur': 0.36449288472495195, 'stuff': 0.7205512409928545, 'switch': 1.0, 'target': 0.40242214377507507, 'test': 0.4597910898505186, 'though': 0.40365320803262006, 'tool': 0.588171102801496, 'tsql': 0.43041890821079254, 'version': 0.4342093965144055, 'window': 0.40705821614099874, 'wonder': 0.3811384519029555, 'ye': 0.35231542992459774, '10': 0.5255320394569092, 'abl': 0.542698160703438, 'anoth': 0.38004609155850405, 'appreci': 0.701647434322434, 'attempt': 0.6751302401707541, 'build': 0.39696688019645265, 'directori': 0.5014418661244131, 'display': 0.23921515718243916, 'doe': 0.4832997270469301, 'doesnt': 0.4960612272127018, 'earlier': 0.4421821831953933, 'enabl': 0.33013431722436437, 'exactli': 1.0, 'explan': 0.37888783534019604, 'find': 0.7309985649062872, 'form': 0.48152535004039043, 'get': 0.5859893890083944, 'increment': 0.4202425813517256, 'log': 0.4819449260218203, 'number': 0.432756312805948, 'old': 0.44375671355351665, 'properti': 0.49119648113824715, 'releas': 0.5299229825398533, 'reset': 0.64996204947282, 'revis': 0.548508402620413, 'set': 0.3338552859246429, 'short': 0.5374568672005451, 'specifi': 0.29497166762074734, 'upgrad': 0.7367599197451751, '2003': 0.32970351816339144, 'abov': 0.3440574205214579, 'anyth': 0.5846171226771355, 'becaus': 0.40562837568973403, 'comput': 0.36202087793531973, 'could': 0.4108919325912637, 'enlighten': 0.3914219178751131, 'entri': 0.47673782031377737, 'everi': 0.44915215680490395, 'feel': 0.40830116796146393, 'five': 0.47678283547034833, 'happen': 0.5082744995728185, 'havent': 0.46282825811749945, 'hive': 0.3589882878993985, 'hkcu': 0.44201868278300416, 'instal': 0.48468222785386783, 'isnt': 0.48061007201578154, 'legaci': 0.43050413661029857, 'list': 0.6067597235517702, 'maintain': 0.45615189838868053, 'mind': 0.3498708142633207, 'moment': 0.7575232189130815, 'perhap': 0.5053214218288937, 'profil': 0.4180797406376177, 'question': 0.5241121926799036, 'registri': 0.44459579350616313, 'root': 0.3031069266151793, 'setup': 0.45076120207522696, 'solv': 0.3705379532763379, 'still': 0.44878521195635973, 'usermachin': 0.4798485436501482, 'connect': 0.4388346417331987, 'simplest': 0.597462543922937, 'OK': 0.4840256511518482, 'avail': 0.5307465684115276, 'back': 0.4727093317889054, 'clarifi': 0.4168699292193039, 'eg': 0.4525597299581284, 'fairli': 0.640592718490629, 'grab': 0.55493804470768, 'gt': 0.5655235228322827, 'includ': 0.4398240454326277, 'late': 0.36376083823986743, 'lifecycl': 0.8282712751521618, 'ltinput': 0.4190395415449497, 'obvious': 0.4140657839956516, 'output': 0.4749649063616426, 'postback': 0.5095966992668345, 'render': 0.6086937898278383, 'represent': 0.363522921374588, 'request': 0.5092219649608873, 'sent': 0.5859767137787076, 'side': 0.8405267507900138, 'typehidden': 0.7570348569073199, 'valu': 0.641868441921944, 'viewstat': 0.464528840223676, 'although': 0.40532440343823245, 'befor': 0.3498257932431841, 'close': 0.5699223532961498, 'complet': 0.5972739419862819, 'delet': 0.38264945076697054, 'handl': 0.39863731795045404, 'lock': 0.290579512538329, 'must': 0.4925650855171854, 'process': 0.4331546844671497, 'suspect': 0.32917225738916656, 'track': 0.37835965748417677, 'correct': 0.36935186240175105, 'els': 0.5521981762681869, 'ps': 0.42632966654754645, 'size': 0.3443796912929152, 'solari': 0.5834979601131253, 'top': 0.4560616484075014, 'assemblyinfoc': 0.4255844439323877, 'ccnet': 0.520817347723994, 'configur': 0.6540545152861775, 'edit': 0.49495096614446155, 'latest': 0.3111283271364273, 'msbuild': 0.44250986170829293, 'nant': 0.7767608496436744, 'retriev': 0.4091463227593938, 'sampl': 0.5407921672206016, 'svn': 0.3600402208450961, 'DB': 0.5771216681992083, 'allow': 0.5154815322663451, 'deal': 0.47218232616238803, 'dn': 0.44065784876812253, 'end': 0.4373558352685429, 'htaccess': 0.44420365898405506, 'logic': 0.7011200468808895, 'lookup': 0.6374147346823434, 'much': 0.547422583323325, 'recommend': 1.0, 'requir': 0.3897469879010257, 'rule': 0.32097575525602867, 'subdomain': 0.47434259754600105, 'toy': 0.6067597235517702, 'actual': 0.47595845600886033, 'almost': 0.5607748478535431, 'autom': 0.3347230575920077, 'beta': 0.4335670861341925, 'cruisecontrolnet': 0.7167791675631693, 'featur': 0.5897669868843217, 'front': 0.6120700401887393, 'happi': 0.4934574158035336, 'judg': 0.4742107981633907, 'offici': 0.577845565855662, 'overlap': 0.5584326682495104, 'prematur': 0.5728651586169274, 'reason': 0.5226237730844456, 'relat': 0.6555009511779676, 'term': 0.48544905567608726, 'uncomfort': 0.3924866932918546, 'unsupport': 0.4522093334934751, 'year': 0.4994524429607911, '2008': 0.6461487629298055, 'address': 0.4617893634670517, 'appeal': 0.36410349809615655, 'box': 0.4167183698665693, 'clear': 0.2675487070108894, 'core': 0.5008382532414329, 'dedic': 0.5525770118945499, 'definit': 0.8399083175815484, 'fulli': 0.3616203730546569, 'indic': 0.471265398045134, 'microsoft': 0.4565376095118778, 'option': 0.5359941953653838, 'sever': 0.659957091110701, 'sound': 1.0, 'websit': 0.40353373414865507, 'week': 0.48507714383611905, 'whether': 0.5868877126441248, 'backup': 0.5971780218235415, 'best': 0.5210563881826649, 'complic': 0.5171202608773195, 'empti': 0.5979061573364929, 'prone': 0.40459261656575585, 'restor': 0.605825761951229, 'veri': 0.5149277280071692, 'Id': 0.5297294988046996, 'around': 0.3577179568715021, 'column': 0.8728993047370451, 'content': 0.682378998874488, 'conveni': 0.6016733182071846, 'design': 0.4295819678746876, 'disk': 0.43666400995826404, 'drag': 0.6623978216851312, 'go': 0.3538329967437207, 'group': 0.6274364106628935, 'layout': 0.3707247698498005, 'mess': 0.7566148958865774, 'mode': 0.4872029844409612, 'order': 0.5904957343773412, 'perform': 0.5645415841724871, 'physic': 0.4155406802561078, 'raw': 0.38581594202951386, 'togeth': 0.4337340372618463, 'ago': 1.0, 'ask': 0.4418493008074909, 'believ': 0.5062620346958814, 'beyond': 0.33399890783769837, 'day': 0.5594038276840304, 'familiar': 0.3854978020559111, 'goal': 0.5348616804541761, 'googl': 0.4538467662954737, 'inform': 0.3443796912929152, 'nunit': 0.4012172019451125, 'packag': 0.4143769769749923, 'realiz': 0.7038773767318265, 'respons': 0.4180797406376177, 'rspec': 0.5028631240930708, 'unit': 0.47940427584627177, 'B': 0.36885325536269764, 'access': 0.4215707506696918, 'either': 0.6663644348853368, 'faster': 0.7611259773850869, 'interact': 0.36491295647352295, 'local': 0.37312228292465627, 'locat': 0.36814434336905677, 'repositori': 0.5110465664177092, 'respect': 0.4409551561892692, 'someon': 0.5031525871705727, 'sync': 0.4865264905617195, 'therefor': 0.6001148173675639, 'interest': 0.5953614156658236, 'postgresql': 0.6145299900871978, 'procedur': 0.457462191585115, 'store': 0.583905837892574, 'support': 0.43319953715166615, 'whi': 0.594379761659458, 'convert': 0.7533487543933638, 'hash': 0.46338100022702994, 'md5': 0.42241208169130356, 'return': 0.4833780839069473, 'select': 0.3215637605805141, 'string': 0.44489826575368174, 'varchar': 0.35633243367506157, 'dataset': 0.4412456489937511, 'datat': 0.4237320683699511, 'otherwis': 0.5100510629742726, 'result': 0.5652584085341558, 'show': 0.5041442058252524, 'storag': 0.3688784789516131, 'wise': 0.4626991535198732, 'asp': 0.3171756168267505, 'classic': 0.668925602986704, 'autocomplet': 0.38545342436141145, 'browser': 0.38198968422783736, 'disabl': 0.5136724004086303, 'input': 0.45106118771553344, 'major': 0.45076250213697405, 'datastructur': 0.5849580688865366, 'librari': 0.4144836343532698, 'plain': 0.3901834222008968, 'pleas': 0.44660218162794746, 'stack': 0.38001223437313053, 'vector': 0.5094355742853336, 'accur': 0.48075781031273146, 'choic': 0.501428421425261, 'decis': 0.5647960774286397, 'effect': 0.5252945034567107, 'embed': 0.7367599197451751, 'flash': 0.5393174111346012, 'internet': 0.43796587721798386, 'obviou': 0.5099472450233606, 'platform': 0.6029645609805236, 'quick': 0.573601931397909, 'bring': 0.7071067811865475, 'favorit': 0.48680614762044866, 'free': 0.3776982433433299, 'love': 0.4375201278680036, 'n': 0.7496125067077853, 'rais': 0.5931561536956098, 'softwar': 0.4766098545897188, 'elsewher': 0.5272904522019434, 'getter': 0.4067061897299466, 'idea': 0.35572926778965275, 'optim': 0.49774609094208894, 'setter': 0.6404984385612814, 'speed': 0.8346961298536621, 'surpris': 0.5755575022313811, 'updat': 0.5556647837313391, 'verif': 0.6210666658993015, 'wrong': 0.5688308030816326, '11': 0.5123675817458468, 'IE': 0.5516381772386322, 'except': 0.4496757491004139, 'globalasax': 0.3917207278683439, 'host': 0.4079782071464163, 'proper': 0.7236704993464524, 'similar': 0.47771824920087397, '12': 0.5189288486334576, '133': 0.5675702348860355, '162': 0.6848031035657165, '255': 0.47029982469475845, '69': 0.42538203851001033, 'argb': 0.4975025957074326, 'blend': 0.5160908891341849, 'colorfromargb127': 0.422643333293858, 'colorfromargb255': 0.4783637085864448, 'let': 0.6022034302464219, 'light': 0.9048563417389034, 'paint': 0.524023852175072, 'rgb': 0.47942043511355265, 'say': 0.584775400761153, 'urpl': 0.597462543922937, 'white': 0.46531513199492125, '2000': 0.38495831597158225, 'built': 0.33863442468327715, 'help': 0.4417107376543169, 'next': 0.7536460609151135, 'reliabl': 0.4622158886184441, 'usernam': 0.4263241831195916, 'wa': 0.36891078171207325, '0': 0.3568974805597513, 'account': 0.49052620195251495, 'comment': 0.4161143260643366, 'deni': 0.43696108773951714, 'echo': 0.27830369543440203, 'fine': 0.513412565032026, 'goe': 0.5899792337229237, 'insert': 0.49394926223433044, 'ltbr': 0.5254411457390054, 'ltphp': 0.5198174517587739, 'mysql': 0.7306655566679293, 'password': 1.0, 'portion': 0.32310422724349164, 'search': 0.47014399713240407, 'stori': 0.32848454220576817, 'verifi': 0.390012732640577, '8': 0.5702989088376719, 'GO': 0.5415329978470212, 'absolut': 0.4060700874931474, 'among': 0.8080127530327148, 'associ': 0.5433538365067809, 'bottom': 0.507834397694341, 'commun': 0.39364883797801364, 'dealt': 0.5189288486334576, 'dictionari': 0.603596284360736, 'digit': 0.5131753980567975, 'doubt': 0.5175399650236044, 'download': 0.23921515718243916, 'editor': 0.539537323743461, 'email': 0.4952673498094554, 'ftp': 0.44162223862346617, 'hack': 0.5517241977403569, 'hi': 0.3896641929506492, 'html': 0.5979061573364929, 'intercept': 0.5100510629742726, 'javascript': 0.5280355963926163, 'jeff': 0.5963035802934402, 'left': 0.7799764124832274, 'letter': 1.0, 'long': 0.5925855492073391, 'lt': 0.5503812141157042, 'ltscript': 0.5151566725193333, 'magic': 0.33080721907385513, 'open': 0.570819803096331, 'peopl': 0.5174326506029702, 'person': 0.5804697241560194, 'point': 0.8457829306524892, 'pop': 0.60998968186621, 'practic': 0.708206570995759, 'probabl': 0.6831578868451426, 'protect': 0.7065039747221608, 'relev': 0.4248224041708347, 'right': 0.37970599468699767, 'said': 0.27237489636177264, 'serious': 0.3656151999333598, 'sftp': 0.468478325547526, 'six': 0.5100281638006594, 'sort': 0.8080127530327148, 'srchttpwww98hsrujsjsgtltscriptgtltscript': 0.39846425857664086, 'srchttpwwwporvrujsjsgtltscriptgtltscript': 0.4329379670335603, 'srchttpwwwuhwcrujsjsgtltscriptgtltscript': 0.41433409075822303, 'step': 0.3161076201487909, 'tag': 0.6508214706205717, 'technic': 0.49935301703976126, 'today': 0.5453864304384284, 'turn': 0.5408873663653493, 'url': 0.5909319753121632, 'weve': 0.4127420065087662, 'whole': 0.6440229135021467, 'wont': 0.5481637019936951, 'word': 0.7099543866732497, 'wouldnt': 0.520817347723994, 'wysiwyg': 0.4496757491004139, 'builtin': 0.6474971903812293, 'figur': 0.5361832079506542, 'framework': 0.4201447379393786, 'link': 0.5408873663653493, 'presum': 0.39803801634279373, 'suit': 0.3688784789516131, 'troubl': 0.45076102115605754, 'usabl': 0.45261396699316414, 'Mr': 0.4781789563830645, 'answer': 0.5093597434852933, 'detail': 0.55493804470768, 'fogbugz': 0.4058553163459248, 'hammer': 0.5529786546108858, 'joel': 0.49201415695603656, 'keep': 0.5614721686583348, 'paper': 0.46252854840417407, 'pretti': 0.4555568119112014, 'solo': 0.7087734977811018, 'stackoverflow': 0.6711620519210079, 'team': 0.4554567563516392, 'versu': 0.6020359780126078, 'welcom': 0.5897650843550861, 'dll': 0.6242504050737286, 'exe': 0.5009241274164857, 'machin': 0.5132270159898539, 'messag': 0.4277963585473741, 'necessari': 0.8697699573959188, 'nondevelop': 0.8664428064198456, 'program': 0.539537323743461, 'redistribut': 0.5793819481362815, 'reinstal': 0.47349859357099305, '16': 0.4960612272127018, '90': 0.7959992671925531, 'array': 0.6174210791245262, 'averag': 0.40170135659767303, 'calcul': 0.6789503345097458, 'construct': 0.49353333653911924, 'correctli': 0.5519955871097818, 'cycl': 0.5574220757790195, 'determin': 0.4564247823549503, 'devic': 0.5195236510915393, 'fall': 0.571108588332227, 'feedback': 0.5361046945491722, 'forum': 0.891835409782777, 'higher': 0.49188313610670875, 'highest': 0.36491295647352295, 'hope': 0.6706709466723908, 'increas': 0.5888828617443171, 'index': 0.3966841720782643, 'initi': 0.47940427584627177, 'labview': 0.37364181441144423, 'less': 0.7818656605546457, 'mayb': 0.5007255975441607, 'near': 0.5923562481900839, 'nois': 0.560929456240733, 'nonstandard': 0.4766799810441156, 'origin': 0.43519539766898424, 'peak': 0.592756590498924, 'period': 0.6598637691480529, 'posit': 0.41026106067084683, 'previou': 0.6029645609805236, 'proceed': 0.5830234948333203, 'second': 1.0, 'signal': 0.5189047550456609, 'take': 0.5097023119639408, 'techniqu': 0.4242172563723655, 'thought': 0.596010407746887, 'MS': 0.5579438555697656, 'along': 0.6643005577649719, 'asterisk': 0.4243469985132704, 'basic': 0.9302620850684644, 'capabl': 0.46165554169158196, 'claus': 0.49650740591094356, 'clr': 0.42271165502186925, 'consid': 0.4715193466680683, 'eye': 0.7212893328530714, 'fulltext': 0.45509191629682333, 'info': 0.47678283547034833, 'joe': 0.5019066810955247, 'lead': 0.4611548045586598, 'match': 0.3947602878138032, 'nearli': 0.6202264329466282, 'note': 0.6339497355424657, 'overflow': 0.814557343853402, 'phrase': 0.5457849955419379, 'place': 0.7576264091245553, 'regex': 0.47414900787280967, 'shouldnt': 0.5724847651387296, 'simpl': 0.32568222045258605, 'tablenam': 0.4115523212451823, 'thu': 0.4975025957074326, 'wildcard': 0.5523916798363944, 'workaround': 0.646699086641631, '3': 0.5076870271470575, '6': 0.5493703831287073, 'alot': 0.520384679859019, 'column1': 1.0, 'column2': 0.589993861226216, 'column3': 0.46160261401088987, 'mario': 0.6219164544939995, 'overli': 0.4598569594700417, 'row': 0.4760815117532019, 'subqueri': 0.4666837348447103, 'topic': 0.6144004672377388, 'transform': 0.5132270159898539, 'x': 0.7535131340002243, 'backtick': 0.5171202608773195, 'normal': 0.46293749213744934, 'rake': 0.45003621233877894, 'rubi': 0.363522921374588, 'shell': 0.6917660247167391, 'task': 0.46470178929982353, 'titl': 0.3469271025744732, '35': 0.5002198984245055, '64bit': 0.6524798535456535, 'OS': 0.6777462248261833, 'altern': 0.49255023437973117, 'compon': 0.3901323802500861, 'didnt': 0.48450129210648707, 'disc': 0.37169826993441357, 'handi': 0.7209670470928107, 'kind': 0.510276107242568, 'manual': 1.0, 'mention': 0.5584147784762535, 'onto': 0.548508402620413, 'oper': 0.5898802140262813, 'put': 0.5557433173491785, 'vista': 0.45092331244298167, 'wmi': 0.3973720914156513, 'analysi': 0.6464974750392104, 'coverag': 0.5793819481362815, 'ide': 0.29744478798326013, 'integr': 0.4829300382367797, 'java': 0.5706844804235525, 'miss': 0.4975025957074326, 'plugin': 0.597462543922937, 'state': 0.47576218617170796, 'worth': 0.45092331244298167, 'anyway': 0.43866375767123916, 'diagram': 0.5184937951171117, 'join': 0.5156988486228967, 'mssql': 0.4906702191301162, 'redesign': 0.47942043511355265, 'util': 0.5606797988269979, 'visualis': 0.6366267606789924, 'youv': 0.6657687478009795, 'adonet': 0.4880576458416137, 'base': 0.7843867129333337, 'everyth': 0.5449779424467985, 'messi': 0.5297889317970923, 'msdn': 0.8573692217668618, 'offic': 0.5223745305059627, 'organ': 0.5119511553071462, 'suffic': 0.6626249450638012, 'assum': 0.5426595383191991, 'datagrid': 0.30017618030122556, 'describ': 0.49255023437973117, 'disadvantag': 0.6925008524377835, 'easier': 0.5404056371243009, 'gridview': 0.5207286901923037, 'hand': 0.42145229802291645, 'intellisens': 0.4732070567442588, 'longer': 0.4614844425805899, 'newer': 0.42174623227657826, 'runtim': 0.4225807098948087, 'summari': 0.5286580619015763, 'toolbox': 0.5880370452360798, 'two': 0.44250986170829293, 'type': 0.47748477344535917, 'variou': 0.5675636295199429, '20': 0.5758369149155348, 'accept': 0.4341796485439045, 'adapt': 0.3524553677414207, 'amp': 0.7472387476422266, 'aspx': 0.5030297212511199, 'behind': 0.5935036193128405, 'bll': 0.4513271502181778, 'busi': 0.7058897279146971, 'drawback': 0.4232857106706977, 'entir': 0.47091190553179896, 'layer': 0.568571046171045, 'potenti': 0.48988240846974535, 'prefer': 0.7161000592236759, 'present': 0.8558324677328788, 'proc': 0.44625784460919776, 'straight': 0.6291571537376298, 'strongli': 0.38934522686135303, 'click': 0.6816638579508472, 'compar': 0.5932441471888674, 'eclips': 0.6542627846178207, 'php': 0.784512319657548, 'cnet': 0.41645231116223436, 'object': 0.3161076201487909, 'prototyp': 0.4812710859614384, 'trim': 0.5401928902138303, 'appli': 0.5832130454321226, 'area': 0.4444213329928238, 'depend': 0.6279263933196075, 'liba': 0.4829300382367797, 'libb': 0.553725785992203, 'load': 0.6901456428723258, 'loader': 0.4688755721196499, 'path': 0.46531513199492125, 'share': 0.4681167831643563, 'thirdparti': 0.4881001470382339, 'webstart': 0.6143630849914031, 'wrap': 0.6809710705780138, 'bazaar': 0.8550044112982038, 'cygwin': 0.5891355519323673, 'decent': 0.4945898049436118, 'distribut': 0.4146107891148471, 'explicit': 0.39128189167239397, 'git': 0.6119054904130997, 'heard': 0.8209937247393687, 'ie': 0.8247701733362633, 'instruct': 0.5921660593630484, 'mercuri': 0.44827246151330385, 'multiplatform': 0.5427531853516427, 'start': 0.5108568154617803, 'arrow': 0.5487928067107393, 'event': 0.6667253198935122, 'hold': 0.6498177494990812, 'listen': 0.6374147346823434, 'overrid': 0.48316745777254855, 'press': 0.5012160515119194, 'send': 0.3945611102000822, 'soon': 0.8131551987308736, 'trigger': 0.6831578868451426, 'viewport': 0.7752459574428463, 'canonic': 0.570819803096331, 'cryptograph': 0.38554797039563443, 'element': 0.6414549208602887, 'format': 0.43655344198751556, 'media': 0.7909623680710323, 'metadata': 0.44128433907766307, 'overkil': 0.5758169632625985, 'regard': 0.41202429027280923, 'reinvent': 0.6300195931971215, 'sign': 0.5031832009030333, 'small': 0.4183996885857276, 'spec': 0.7649302492301421, 'tab': 0.717798611546267, 'wheel': 0.2760091631640753, 'xmlsig': 0.4753953663495946, 'across': 0.46563694585558146, 'colour': 0.5729954984185546, 'condit': 0.6702057275855116, 'due': 0.6516434331987627, 'escap': 0.5442258159974545, 'formattedstr': 0.45961828083190776, 'friend': 0.8247472960633512, 'impact': 0.7694667819448289, 'incomplet': 0.6712255559460594, 'newbi': 0.6339603728112375, 'pars': 0.6682819999676732, 'reduc': 0.6021083446954862, 'regexoptionscompil': 0.5898802140262813, 'regular': 0.48804191058402396, 'sequenc': 0.5948490512710105, 'slower': 0.6100845094564008, 'stringempti': 0.5494537383226962, 'telnet': 0.6318185565173167, 'text': 0.5031832009030333, 'warn': 0.4263241831195916, 'z': 0.4791018442102179, 'cant': 0.8311413101995139, 'confirm': 0.5858510101242707, 'copypast': 0.4183996885857276, 'face': 0.5780914176383318, 'login': 0.5345256157853117, 'regardless': 0.3220457709570035, 'screw': 0.5530267650834719, 'stand': 0.5184937951171117, 'us': 0.5237140921341816, '2007': 0.4436437396534345, 'ajax': 0.5106662756255544, 'behav': 0.507834397694341, 'bin': 0.5366820876356329, 'caus': 0.4807956622238992, 'custom': 0.294030634583328, 'easili': 0.5360349375270774, 'folder': 0.5066494215400039, 'gac': 0.6352198366380325, 'give': 0.7860036582861596, 'made': 0.5891355519323673, 'modif': 0.5441667664906439, 'sharepoint': 0.8678968210507737, 'simpli': 0.5584147784762535, 'situat': 0.6227885393314035, 'strong': 0.4422331860835033, 'big': 0.7115780933085042, 'sometim': 0.5279284056173417, 'ssm': 0.49394926223433044, 'todo': 0.4527640660041649, '120': 0.44128433907766307, '30': 0.6229815963064395, '50': 0.7374999200701656, '5pm': 0.6759250777166368, '60': 0.3896641929506492, '600': 0.4753953663495946, '80': 0.4881001470382339, '9': 0.4925650855171854, 'begin': 0.4436437396534345, 'daterequir': 0.6807882262189887, 'decim': 0.4791018442102179, 'delay': 0.4564247823549503, 'delta': 0.4654771732609662, 'dim': 0.42271165502186925, 'endofday': 0.4881001470382339, 'forget': 0.5989387446095135, 'hour': 0.5589582951828367, 'integerparsedecimaltruncatedelta': 0.4876976645304417, 'newhour': 0.5579089660835131, 'newminut': 0.6862688898176819, 'post': 0.589417754152197, 'privat': 0.6680944910370412, 'split': 0.570819803096331}\n"
     ]
    }
   ],
   "source": [
    "print(d)"
   ]
  },
  {
   "cell_type": "code",
   "execution_count": null,
   "metadata": {
    "collapsed": true
   },
   "outputs": [],
   "source": []
  }
 ],
 "metadata": {
  "kernelspec": {
   "display_name": "Python 3",
   "language": "python",
   "name": "python3"
  },
  "language_info": {
   "codemirror_mode": {
    "name": "ipython",
    "version": 3
   },
   "file_extension": ".py",
   "mimetype": "text/x-python",
   "name": "python",
   "nbconvert_exporter": "python",
   "pygments_lexer": "ipython3",
   "version": "3.6.3"
  }
 },
 "nbformat": 4,
 "nbformat_minor": 2
}
